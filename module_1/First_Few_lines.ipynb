{
  "nbformat": 4,
  "nbformat_minor": 0,
  "metadata": {
    "colab": {
      "name": "First_Few_lines.ipynb",
      "provenance": [],
      "collapsed_sections": [],
      "authorship_tag": "ABX9TyPDPJth2c88FbL7esfeOH7S",
      "include_colab_link": true
    },
    "kernelspec": {
      "name": "python3",
      "display_name": "Python 3"
    }
  },
  "cells": [
    {
      "cell_type": "markdown",
      "metadata": {
        "id": "view-in-github",
        "colab_type": "text"
      },
      "source": [
        "<a href=\"https://colab.research.google.com/github/muksmuks/EVA-2-Group/blob/master/module_1/First_Few_lines.ipynb\" target=\"_parent\"><img src=\"https://colab.research.google.com/assets/colab-badge.svg\" alt=\"Open In Colab\"/></a>"
      ]
    },
    {
      "cell_type": "markdown",
      "metadata": {
        "id": "IhJItTbORVd6",
        "colab_type": "text"
      },
      "source": [
        "$\n",
        "x^2\n",
        "$"
      ]
    },
    {
      "cell_type": "markdown",
      "metadata": {
        "id": "W9rRbD9BSoQK",
        "colab_type": "text"
      },
      "source": [
        "```\n",
        "def func():\n",
        "  return \"HI\"\n",
        "\n",
        "```"
      ]
    },
    {
      "cell_type": "code",
      "metadata": {
        "id": "Pmd3VWCiW4dY",
        "colab_type": "code",
        "colab": {}
      },
      "source": [
        "print(\"Hi there\")"
      ],
      "execution_count": 0,
      "outputs": []
    },
    {
      "cell_type": "markdown",
      "metadata": {
        "id": "C1F1yRqeSQz-",
        "colab_type": "text"
      },
      "source": [
        ""
      ]
    },
    {
      "cell_type": "code",
      "metadata": {
        "id": "KU52IPWxQ5Tu",
        "colab_type": "code",
        "colab": {}
      },
      "source": [
        "for x in range(10):\n",
        "  print(x)"
      ],
      "execution_count": 0,
      "outputs": []
    }
  ]
}