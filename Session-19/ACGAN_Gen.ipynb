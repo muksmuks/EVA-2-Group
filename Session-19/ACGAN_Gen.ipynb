{
  "nbformat": 4,
  "nbformat_minor": 0,
  "metadata": {
    "colab": {
      "name": "ACGAN-Gen.ipynb",
      "provenance": [],
      "collapsed_sections": []
    },
    "kernelspec": {
      "name": "python3",
      "display_name": "Python 3"
    },
    "accelerator": "GPU"
  },
  "cells": [
    {
      "cell_type": "markdown",
      "metadata": {
        "id": "YRDgRZMHM2Ia",
        "colab_type": "text"
      },
      "source": [
        "## Generator"
      ]
    },
    {
      "cell_type": "code",
      "metadata": {
        "id": "onNVOO46ODAm",
        "colab_type": "code",
        "colab": {
          "base_uri": "https://localhost:8080/",
          "height": 63
        },
        "outputId": "33e86bb8-4030-40b8-e9e8-c095d04326cf"
      },
      "source": [
        "from tensorflow.keras.layers import Embedding, Flatten, Reshape, Dense, Concatenate, Conv2DTranspose, BatchNormalization, Activation, Input\n",
        "from tensorflow.keras.models import Model\n"
      ],
      "execution_count": 1,
      "outputs": [
        {
          "output_type": "display_data",
          "data": {
            "text/html": [
              "<p style=\"color: red;\">\n",
              "The default version of TensorFlow in Colab will soon switch to TensorFlow 2.x.<br>\n",
              "We recommend you <a href=\"https://www.tensorflow.org/guide/migrate\" target=\"_blank\">upgrade</a> now \n",
              "or ensure your notebook will continue to use TensorFlow 1.x via the <code>%tensorflow_version 1.x</code> magic:\n",
              "<a href=\"https://colab.research.google.com/notebooks/tensorflow_version.ipynb\" target=\"_blank\">more info</a>.</p>\n"
            ],
            "text/plain": [
              "<IPython.core.display.HTML object>"
            ]
          },
          "metadata": {
            "tags": []
          }
        }
      ]
    },
    {
      "cell_type": "code",
      "metadata": {
        "id": "bBb373XpOcI_",
        "colab_type": "code",
        "colab": {}
      },
      "source": [
        "?Reshape"
      ],
      "execution_count": 0,
      "outputs": []
    },
    {
      "cell_type": "code",
      "metadata": {
        "id": "igdoYt9geG4j",
        "colab_type": "code",
        "colab": {}
      },
      "source": [
        "# define the generator model\n",
        "# \n",
        "# Reference - Paper : https://arxiv.org/pdf/1610.09585.pdf\n",
        "# Also refer to GAN hacks - https://github.com/soumith/ganhacks\n",
        "#\n",
        "# For ACGAN:\n",
        "#     inputs: label and noise (latent dimension)\n",
        "#     ouput:  fake-image\n",
        "#\n",
        "# noise of size 8x8 -> 16x16 -> 32x32 -> 64x64\n",
        "# label is also modeled as 8x8 - yet another channel along with noise\n",
        "#\n",
        "# Use ReLu instead of LeakyReLu for ACGAN - for more info refer to paper.\n",
        "#\n",
        "def generator(latent_dim, n_classes=2):\n",
        "\n",
        "  # Input 1 - label - one dim tensor\n",
        "  img_class = Input(shape=(1,))\n",
        "  # use embedding for  input\n",
        "  emb = Embedding(n_classes, latent_dim)(img_class)\n",
        "\n",
        "  # setup the label as yet another channel along with noise\n",
        "  n_nodes = 8 * 8\n",
        "  label_in = Dense(n_nodes)(emb)\n",
        "  # reshape it\n",
        "  label_in = Reshape((8,8,1))(label_in)\n",
        "\n",
        "\n",
        "  # Input 2 - noise\n",
        "  latent_input = Input(shape=(latent_dim,))\n",
        "  # foundation of noise input for image\n",
        "  # refer to page 11 of the above mentioned paper for all these feature map count\n",
        "  n_nodes = 398 * 8 * 8\n",
        "  gen = Dense(n_nodes)(latent_input)\n",
        "  gen = Activation('relu')(gen)\n",
        "  gen = Reshape((8,8,398))(gen)\n",
        "\n",
        "  # combine inputs : noise + label\n",
        "  inp_merge = Concatenate()([gen, label_in])\n",
        "\n",
        "  # upsample to 16x16\n",
        "  gen = Conv2DTranspose(256, (5,5), strides=(2,2), padding='same')(inp_merge)\n",
        "  gen = BatchNormalization()(gen)\n",
        "  gen = Activation('relu')(gen)\n",
        "\n",
        "  # upsample to 32x32\n",
        "  gen = Conv2DTranspose(192, (5,5), strides=(2,2), padding='same')(gen)\n",
        "  gen = BatchNormalization()(gen)\n",
        "  gen = Activation('relu')(gen)\n",
        "\n",
        "  # upsample to 64x64\n",
        "  gen = Conv2DTranspose(3, (5,5), strides=(2,2), padding='same')(gen)\n",
        "  # No BN - refer to page 11 of the above mentioned paper.\n",
        "\n",
        "  # output\n",
        "  out_layer = Activation('tanh')(gen)\n",
        "\n",
        "  # define model\n",
        "  model = Model([latent_input, img_class], out_layer)\n",
        "\n",
        "  return model\n"
      ],
      "execution_count": 0,
      "outputs": []
    },
    {
      "cell_type": "code",
      "metadata": {
        "id": "R9Y-_a6Jj-H7",
        "colab_type": "code",
        "colab": {}
      },
      "source": [
        "latent_dim = 100\n",
        "model_gen = generator(latent_dim)"
      ],
      "execution_count": 0,
      "outputs": []
    },
    {
      "cell_type": "code",
      "metadata": {
        "id": "OE0D0GqCkOLy",
        "colab_type": "code",
        "colab": {
          "base_uri": "https://localhost:8080/",
          "height": 748
        },
        "outputId": "72895e1e-9d2d-4145-90ec-d538ee7c0ed5"
      },
      "source": [
        "model_gen.summary()"
      ],
      "execution_count": 6,
      "outputs": [
        {
          "output_type": "stream",
          "text": [
            "Model: \"model\"\n",
            "__________________________________________________________________________________________________\n",
            "Layer (type)                    Output Shape         Param #     Connected to                     \n",
            "==================================================================================================\n",
            "input_4 (InputLayer)            [(None, 100)]        0                                            \n",
            "__________________________________________________________________________________________________\n",
            "input_3 (InputLayer)            [(None, 1)]          0                                            \n",
            "__________________________________________________________________________________________________\n",
            "dense_3 (Dense)                 (None, 25472)        2572672     input_4[0][0]                    \n",
            "__________________________________________________________________________________________________\n",
            "embedding_1 (Embedding)         (None, 1, 100)       200         input_3[0][0]                    \n",
            "__________________________________________________________________________________________________\n",
            "activation (Activation)         (None, 25472)        0           dense_3[0][0]                    \n",
            "__________________________________________________________________________________________________\n",
            "dense_2 (Dense)                 (None, 1, 64)        6464        embedding_1[0][0]                \n",
            "__________________________________________________________________________________________________\n",
            "reshape_2 (Reshape)             (None, 8, 8, 398)    0           activation[0][0]                 \n",
            "__________________________________________________________________________________________________\n",
            "reshape_1 (Reshape)             (None, 8, 8, 1)      0           dense_2[0][0]                    \n",
            "__________________________________________________________________________________________________\n",
            "concatenate (Concatenate)       (None, 8, 8, 399)    0           reshape_2[0][0]                  \n",
            "                                                                 reshape_1[0][0]                  \n",
            "__________________________________________________________________________________________________\n",
            "conv2d_transpose (Conv2DTranspo (None, 16, 16, 256)  2553856     concatenate[0][0]                \n",
            "__________________________________________________________________________________________________\n",
            "batch_normalization (BatchNorma (None, 16, 16, 256)  1024        conv2d_transpose[0][0]           \n",
            "__________________________________________________________________________________________________\n",
            "activation_1 (Activation)       (None, 16, 16, 256)  0           batch_normalization[0][0]        \n",
            "__________________________________________________________________________________________________\n",
            "conv2d_transpose_1 (Conv2DTrans (None, 32, 32, 192)  1228992     activation_1[0][0]               \n",
            "__________________________________________________________________________________________________\n",
            "batch_normalization_1 (BatchNor (None, 32, 32, 192)  768         conv2d_transpose_1[0][0]         \n",
            "__________________________________________________________________________________________________\n",
            "activation_2 (Activation)       (None, 32, 32, 192)  0           batch_normalization_1[0][0]      \n",
            "__________________________________________________________________________________________________\n",
            "conv2d_transpose_2 (Conv2DTrans (None, 64, 64, 3)    14403       activation_2[0][0]               \n",
            "__________________________________________________________________________________________________\n",
            "activation_3 (Activation)       (None, 64, 64, 3)    0           conv2d_transpose_2[0][0]         \n",
            "==================================================================================================\n",
            "Total params: 6,378,379\n",
            "Trainable params: 6,377,483\n",
            "Non-trainable params: 896\n",
            "__________________________________________________________________________________________________\n"
          ],
          "name": "stdout"
        }
      ]
    },
    {
      "cell_type": "code",
      "metadata": {
        "id": "djoqOyXXmusS",
        "colab_type": "code",
        "colab": {}
      },
      "source": [
        ""
      ],
      "execution_count": 0,
      "outputs": []
    }
  ]
}