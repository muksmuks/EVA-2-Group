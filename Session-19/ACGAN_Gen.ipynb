{
  "nbformat": 4,
  "nbformat_minor": 0,
  "metadata": {
    "colab": {
      "name": "ACGAN-Gen.ipynb",
      "provenance": [],
      "collapsed_sections": []
    },
    "kernelspec": {
      "name": "python3",
      "display_name": "Python 3"
    },
    "accelerator": "GPU"
  },
  "cells": [
    {
      "cell_type": "markdown",
      "metadata": {
        "id": "YRDgRZMHM2Ia",
        "colab_type": "text"
      },
      "source": [
        "## Generator"
      ]
    },
    {
      "cell_type": "code",
      "metadata": {
        "id": "onNVOO46ODAm",
        "colab_type": "code",
        "colab": {}
      },
      "source": [
        "from tensorflow.keras.layers import Embedding, Flatten, Reshape, Dense, Concatenate, Conv2DTranspose, BatchNormalization, Activation, Input\n",
        "from tensorflow.keras.models import Model\n"
      ],
      "execution_count": 0,
      "outputs": []
    },
    {
      "cell_type": "code",
      "metadata": {
        "id": "bBb373XpOcI_",
        "colab_type": "code",
        "colab": {}
      },
      "source": [
        "?Reshape"
      ],
      "execution_count": 0,
      "outputs": []
    },
    {
      "cell_type": "code",
      "metadata": {
        "id": "igdoYt9geG4j",
        "colab_type": "code",
        "colab": {}
      },
      "source": [
        "# define the generator model\n",
        "# \n",
        "# Reference - Paper : https://arxiv.org/pdf/1610.09585.pdf\n",
        "# Also refer to GAN hacks - https://github.com/soumith/ganhacks\n",
        "#\n",
        "# For ACGAN:\n",
        "#     inputs: label and noise (latent dimension)\n",
        "#     ouput:  fake-image\n",
        "#\n",
        "# noise of size 8x8 -> 16x16 -> 32x32 -> 64x64\n",
        "# label is also modeled as 8x8 - yet another channel along with noise\n",
        "#\n",
        "# Use ReLu instead of LeakyReLu for ACGAN - for more info refer to paper.\n",
        "#\n",
        "def generator(latent_dim, n_classes=2):\n",
        "\n",
        "  # Input 1 - label - one dim tensor\n",
        "  img_class = Input(shape=(1,))\n",
        "  # use embedding for  input\n",
        "  emb = Embedding(n_classes, latent_dim)(img_class)\n",
        "\n",
        "  # setup the label as yet another channel along with noise\n",
        "  n_nodes = 8 * 8\n",
        "  label_in = Dense(n_nodes)(emb)\n",
        "  # reshape it\n",
        "  label_in = Reshape((8,8,1))(label_in)\n",
        "\n",
        "\n",
        "  # Input 2 - noise\n",
        "  latent_input = Input(shape=(latent_dim,))\n",
        "  # foundation of noise input for image\n",
        "  n_nodes = 128 * 8 * 8\n",
        "  gen = Dense(n_nodes)(latent_input)\n",
        "  gen = LeakyReLU()(gen)\n",
        "  gen = Reshape((8,8,128))(gen)\n",
        "\n",
        "  # combine inputs : noise + label\n",
        "  inp_merge = Concatenate()([gen, label_in])\n",
        "\n",
        "  # upsample to 16x16\n",
        "  gen = Conv2DTranspose(128, (5,5), strides=(2,2), padding='same')(inp_merge)\n",
        "  gen = BatchNormalization()(gen)\n",
        "  gen = Activation('relu')(gen)\n",
        "\n",
        "  # upsample to 32x32\n",
        "  gen = Conv2DTranspose(128, (5,5), strides=(2,2), padding='same')(gen)\n",
        "  gen = BatchNormalization()(gen)\n",
        "  gen = Activation('relu')(gen)\n",
        "\n",
        "  # upsample to 64x64\n",
        "  gen = Conv2DTranspose(128, (5,5), strides=(2,2), padding='same')(gen)\n",
        "  # No BN - refer to page 11 of the above mentioned paper.\n",
        "\n",
        "  # output\n",
        "  out_layer = Activation('tanh')(gen)\n",
        "\n",
        "  # define model\n",
        "  model = Model([latent_input, img_class], out_layer)\n",
        "\n",
        "  return model\n"
      ],
      "execution_count": 0,
      "outputs": []
    },
    {
      "cell_type": "code",
      "metadata": {
        "id": "R9Y-_a6Jj-H7",
        "colab_type": "code",
        "colab": {}
      },
      "source": [
        "latent_dim = 100\n",
        "model_gen = generator(latent_dim)"
      ],
      "execution_count": 0,
      "outputs": []
    },
    {
      "cell_type": "code",
      "metadata": {
        "id": "OE0D0GqCkOLy",
        "colab_type": "code",
        "colab": {
          "base_uri": "https://localhost:8080/",
          "height": 748
        },
        "outputId": "7646acc8-a815-4970-e3e2-ce93062a148a"
      },
      "source": [
        "model_gen.summary()"
      ],
      "execution_count": 25,
      "outputs": [
        {
          "output_type": "stream",
          "text": [
            "Model: \"model_1\"\n",
            "__________________________________________________________________________________________________\n",
            "Layer (type)                    Output Shape         Param #     Connected to                     \n",
            "==================================================================================================\n",
            "input_7 (InputLayer)            [(None, 100)]        0                                            \n",
            "__________________________________________________________________________________________________\n",
            "input_6 (InputLayer)            [(None, 1)]          0                                            \n",
            "__________________________________________________________________________________________________\n",
            "dense_6 (Dense)                 (None, 8192)         827392      input_7[0][0]                    \n",
            "__________________________________________________________________________________________________\n",
            "embedding_3 (Embedding)         (None, 1, 100)       200         input_6[0][0]                    \n",
            "__________________________________________________________________________________________________\n",
            "leaky_re_lu_2 (LeakyReLU)       (None, 8192)         0           dense_6[0][0]                    \n",
            "__________________________________________________________________________________________________\n",
            "dense_5 (Dense)                 (None, 1, 64)        6464        embedding_3[0][0]                \n",
            "__________________________________________________________________________________________________\n",
            "reshape_4 (Reshape)             (None, 8, 8, 128)    0           leaky_re_lu_2[0][0]              \n",
            "__________________________________________________________________________________________________\n",
            "reshape_3 (Reshape)             (None, 8, 8, 1)      0           dense_5[0][0]                    \n",
            "__________________________________________________________________________________________________\n",
            "concatenate_1 (Concatenate)     (None, 8, 8, 129)    0           reshape_4[0][0]                  \n",
            "                                                                 reshape_3[0][0]                  \n",
            "__________________________________________________________________________________________________\n",
            "conv2d_transpose_3 (Conv2DTrans (None, 16, 16, 128)  412928      concatenate_1[0][0]              \n",
            "__________________________________________________________________________________________________\n",
            "batch_normalization_3 (BatchNor (None, 16, 16, 128)  512         conv2d_transpose_3[0][0]         \n",
            "__________________________________________________________________________________________________\n",
            "activation_3 (Activation)       (None, 16, 16, 128)  0           batch_normalization_3[0][0]      \n",
            "__________________________________________________________________________________________________\n",
            "conv2d_transpose_4 (Conv2DTrans (None, 32, 32, 128)  409728      activation_3[0][0]               \n",
            "__________________________________________________________________________________________________\n",
            "batch_normalization_4 (BatchNor (None, 32, 32, 128)  512         conv2d_transpose_4[0][0]         \n",
            "__________________________________________________________________________________________________\n",
            "activation_4 (Activation)       (None, 32, 32, 128)  0           batch_normalization_4[0][0]      \n",
            "__________________________________________________________________________________________________\n",
            "conv2d_transpose_5 (Conv2DTrans (None, 64, 64, 128)  409728      activation_4[0][0]               \n",
            "__________________________________________________________________________________________________\n",
            "activation_5 (Activation)       (None, 64, 64, 128)  0           conv2d_transpose_5[0][0]         \n",
            "==================================================================================================\n",
            "Total params: 2,067,464\n",
            "Trainable params: 2,066,952\n",
            "Non-trainable params: 512\n",
            "__________________________________________________________________________________________________\n"
          ],
          "name": "stdout"
        }
      ]
    },
    {
      "cell_type": "code",
      "metadata": {
        "id": "djoqOyXXmusS",
        "colab_type": "code",
        "colab": {}
      },
      "source": [
        ""
      ],
      "execution_count": 0,
      "outputs": []
    }
  ]
}