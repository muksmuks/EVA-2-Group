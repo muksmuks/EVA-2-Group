{
 "cells": [
  {
   "cell_type": "code",
   "execution_count": 14,
   "metadata": {},
   "outputs": [],
   "source": [
    "import sys\n",
    "IN_COLAB = 'google.colab' in sys.modules\n",
    "\n",
    "if IN_COLAB:\n",
    "    import os\n",
    "    os.chdir('/content')\n",
    "    if not os.path.isdir('/content/EVA-2-Group/'):\n",
    "        !git clone https://github.com/sambitdash/EVA-2-Group.git\n",
    "    os.chdir('/content/EVA-2-Group/Session-19')\n",
    "    !pwd\n",
    "    \n",
    "    !git config user.email \"sambitdash@gmail.com\"\n",
    "    !git config user.name \"Sambit Kumar Dash\"\n",
    "    !git config user.password \"your password\"\n",
    "    !git status"
   ]
  },
  {
   "cell_type": "code",
   "execution_count": 19,
   "metadata": {},
   "outputs": [],
   "source": [
    "import cv2\n",
    "import os\n",
    "import numpy as np\n",
    "from os import listdir\n",
    "from os.path import join\n",
    "\n",
    "car_types = ['hatch', 'sedan', 'suv']\n",
    "\n",
    "def resize_image(img, size=(64,64)):\n",
    "\n",
    "    h, w = img.shape[:2]\n",
    "\n",
    "    if h == w: \n",
    "        return cv2.resize(img, size, cv2.INTER_AREA)\n",
    "\n",
    "    dif = h if h > w else w\n",
    "\n",
    "    interpolation = cv2.INTER_AREA if dif > (size[0]+size[1])//2 else cv2.INTER_CUBIC\n",
    "\n",
    "    x_pos = (dif - w)//2\n",
    "    y_pos = (dif - h)//2\n",
    "\n",
    "    if len(img.shape) == 2:\n",
    "        mask = np.zeros((dif, dif), dtype=img.dtype)\n",
    "        mask[y_pos:y_pos+h, x_pos:x_pos+w] = img[:h, :w]\n",
    "    else:\n",
    "        c = img.shape[2]\n",
    "        mask = np.zeros((dif, dif, c), dtype=img.dtype)\n",
    "        mask[y_pos:y_pos+h, x_pos:x_pos+w, :] = img[:h, :w, :]\n",
    "\n",
    "    return cv2.resize(mask, size, interpolation)\n",
    "\n",
    "spath, dpath = join('data', 'cars'), join('data', 'norm')\n",
    "\n",
    "for ct in car_types:\n",
    "    sp, dp = join(spath, ct), join(dpath, ct)\n",
    "    if not os.path.isdir(dp):\n",
    "        os.mkdir(dp)\n",
    "    for f in listdir(sp):\n",
    "        sf, df = join(sp, f), join(dp, f)\n",
    "        img = cv2.imread(sf)\n",
    "        img = resize_image(img)\n",
    "        cv2.imwrite(df, img)"
   ]
  },
  {
   "cell_type": "code",
   "execution_count": null,
   "metadata": {},
   "outputs": [],
   "source": []
  }
 ],
 "metadata": {
  "kernelspec": {
   "display_name": "Python 3",
   "language": "python",
   "name": "python3"
  },
  "language_info": {
   "codemirror_mode": {
    "name": "ipython",
    "version": 3
   },
   "file_extension": ".py",
   "mimetype": "text/x-python",
   "name": "python",
   "nbconvert_exporter": "python",
   "pygments_lexer": "ipython3",
   "version": "3.7.5"
  }
 },
 "nbformat": 4,
 "nbformat_minor": 2
}
