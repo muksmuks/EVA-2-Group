{
  "nbformat": 4,
  "nbformat_minor": 0,
  "metadata": {
    "kernelspec": {
      "display_name": "Python 3",
      "language": "python",
      "name": "python3"
    },
    "language_info": {
      "codemirror_mode": {
        "name": "ipython",
        "version": 3
      },
      "file_extension": ".py",
      "mimetype": "text/x-python",
      "name": "python",
      "nbconvert_exporter": "python",
      "pygments_lexer": "ipython3",
      "version": "3.7.5"
    },
    "colab": {
      "name": "Assignment-19.ipynb",
      "provenance": []
    }
  },
  "cells": [
    {
      "cell_type": "code",
      "metadata": {
        "id": "GVY3XJhuhvkg",
        "colab_type": "code",
        "colab": {
          "base_uri": "https://localhost:8080/",
          "height": 246
        },
        "outputId": "3d310999-c876-44e0-d393-79863465aeeb"
      },
      "source": [
        "import sys\n",
        "IN_COLAB = 'google.colab' in sys.modules\n",
        "\n",
        "if IN_COLAB:\n",
        "    import os\n",
        "    os.chdir('/content')\n",
        "    if not os.path.isdir('/content/EVA-2-Group/'):\n",
        "        !git clone https://github.com/sambitdash/EVA-2-Group.git\n",
        "    os.chdir('/content/EVA-2-Group/Session-19')\n",
        "    !pwd\n",
        "    \n",
        "    !git config user.email \"sambitdash@gmail.com\"\n",
        "    !git config user.name \"Sambit Kumar Dash\"\n",
        "    !git config user.password \"your password\"\n",
        "    !git status"
      ],
      "execution_count": 1,
      "outputs": [
        {
          "output_type": "stream",
          "text": [
            "Cloning into 'EVA-2-Group'...\n",
            "remote: Enumerating objects: 1096, done.\u001b[K\n",
            "remote: Counting objects: 100% (1096/1096), done.\u001b[K\n",
            "remote: Compressing objects: 100% (1080/1080), done.\u001b[K\n",
            "remote: Total 2192 (delta 13), reused 1087 (delta 7), pack-reused 1096\u001b[K\n",
            "Receiving objects: 100% (2192/2192), 592.88 MiB | 35.35 MiB/s, done.\n",
            "Resolving deltas: 100% (77/77), done.\n",
            "Checking out files: 100% (2036/2036), done.\n",
            "/content/EVA-2-Group/Session-19\n",
            "On branch master\n",
            "Your branch is up to date with 'origin/master'.\n",
            "\n",
            "nothing to commit, working tree clean\n"
          ],
          "name": "stdout"
        }
      ]
    },
    {
      "cell_type": "code",
      "metadata": {
        "id": "BbhSFX9Jhvkl",
        "colab_type": "code",
        "colab": {}
      },
      "source": [
        "import cv2\n",
        "import os\n",
        "import numpy as np\n",
        "from os import listdir\n",
        "from os.path import join\n",
        "\n",
        "car_types = ['hatch', 'sedan', 'suv']\n",
        "\n",
        "def resize_image(img, size=(64,64)):\n",
        "\n",
        "    h, w = img.shape[:2]\n",
        "\n",
        "    if h == w: \n",
        "        return cv2.resize(img, size, cv2.INTER_AREA)\n",
        "\n",
        "    dif = h if h > w else w\n",
        "\n",
        "    interpolation = cv2.INTER_AREA if dif > (size[0]+size[1])//2 else cv2.INTER_CUBIC\n",
        "\n",
        "    x_pos = (dif - w)//2\n",
        "    y_pos = (dif - h)//2\n",
        "\n",
        "    if len(img.shape) == 2:\n",
        "        mask = np.zeros((dif, dif), dtype=img.dtype)\n",
        "        mask[y_pos:y_pos+h, x_pos:x_pos+w] = img[:h, :w]\n",
        "    else:\n",
        "        c = img.shape[2]\n",
        "        mask = np.zeros((dif, dif, c), dtype=img.dtype)\n",
        "        mask[y_pos:y_pos+h, x_pos:x_pos+w, :] = img[:h, :w, :]\n",
        "\n",
        "    return cv2.resize(mask, size, interpolation)\n",
        "\n",
        "spath, dpath = join('data', 'cars'), join('data', 'norm')\n",
        "\n",
        "if not os.path.isdir(dpath):\n",
        "    os.mkdir(dpath)\n",
        "\n",
        "for ct in car_types:\n",
        "    sp, dp = join(spath, ct), join(dpath, ct)\n",
        "    if not os.path.isdir(dp):\n",
        "        os.mkdir(dp)\n",
        "    for f in listdir(sp):\n",
        "        sf, df = join(sp, f), join(dp, f)\n",
        "        img = cv2.imread(sf)\n",
        "        img = resize_image(img)\n",
        "        cv2.imwrite(df, img)"
      ],
      "execution_count": 0,
      "outputs": []
    }
  ]
}