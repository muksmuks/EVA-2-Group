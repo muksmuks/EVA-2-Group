{
  "nbformat": 4,
  "nbformat_minor": 0,
  "metadata": {
    "colab": {
      "name": "StitchImagesToVideo.ipynb",
      "provenance": [],
      "toc_visible": true
    },
    "kernelspec": {
      "name": "python3",
      "display_name": "Python 3"
    },
    "accelerator": "GPU"
  },
  "cells": [
    {
      "cell_type": "markdown",
      "metadata": {
        "id": "LAXv70qUF3E3",
        "colab_type": "text"
      },
      "source": [
        "# Stitch Images to Video Using OpenCV"
      ]
    },
    {
      "cell_type": "markdown",
      "metadata": {
        "id": "NRSTyyrmF_y1",
        "colab_type": "text"
      },
      "source": [
        "## Import Data"
      ]
    },
    {
      "cell_type": "code",
      "metadata": {
        "id": "WK0BeoZOFw8M",
        "colab_type": "code",
        "colab": {
          "base_uri": "https://localhost:8080/",
          "height": 122
        },
        "outputId": "d6c92959-6e1b-4972-94a8-0024bd3a2fa6"
      },
      "source": [
        "from google.colab import drive\n",
        "drive.mount('/content/drive')"
      ],
      "execution_count": 1,
      "outputs": [
        {
          "output_type": "stream",
          "text": [
            "Go to this URL in a browser: https://accounts.google.com/o/oauth2/auth?client_id=947318989803-6bn6qk8qdgf4n4g3pfee6491hc0brc4i.apps.googleusercontent.com&redirect_uri=urn%3aietf%3awg%3aoauth%3a2.0%3aoob&response_type=code&scope=email%20https%3a%2f%2fwww.googleapis.com%2fauth%2fdocs.test%20https%3a%2f%2fwww.googleapis.com%2fauth%2fdrive%20https%3a%2f%2fwww.googleapis.com%2fauth%2fdrive.photos.readonly%20https%3a%2f%2fwww.googleapis.com%2fauth%2fpeopleapi.readonly\n",
            "\n",
            "Enter your authorization code:\n",
            "··········\n",
            "Mounted at /content/drive\n"
          ],
          "name": "stdout"
        }
      ]
    },
    {
      "cell_type": "code",
      "metadata": {
        "id": "ouP5CXKLGGev",
        "colab_type": "code",
        "colab": {}
      },
      "source": [
        "!cp -r '/content/drive/My Drive/App/EVA/Session18/results' /content"
      ],
      "execution_count": 0,
      "outputs": []
    },
    {
      "cell_type": "code",
      "metadata": {
        "id": "lPSSw8wFG_Cx",
        "colab_type": "code",
        "colab": {}
      },
      "source": [
        "import os\n",
        "import cv2\n",
        "import numpy as np\n",
        "import matplotlib.pyplot as plt\n",
        "%matplotlib inline"
      ],
      "execution_count": 0,
      "outputs": []
    },
    {
      "cell_type": "code",
      "metadata": {
        "id": "Tu6O4FWXGWhM",
        "colab_type": "code",
        "colab": {}
      },
      "source": [
        "# read all images\n",
        "def read_all_images(dir, filename_prefix, num_files):\n",
        "  result_list = []\n",
        "  for cnt in range(0, num_files):\n",
        "    fn = filename_prefix + '_' + str(cnt) + '.png'\n",
        "    full_path = os.path.join(dir, fn)\n",
        "    img = cv2.imread(full_path)\n",
        "    result_list.append(img)\n",
        "\n",
        "  return result_list"
      ],
      "execution_count": 0,
      "outputs": []
    },
    {
      "cell_type": "code",
      "metadata": {
        "id": "fPwjjM-CHLJk",
        "colab_type": "code",
        "colab": {}
      },
      "source": [
        "original_frames = read_all_images('/content/results/original', 'frame', 153)"
      ],
      "execution_count": 0,
      "outputs": []
    },
    {
      "cell_type": "code",
      "metadata": {
        "id": "EAUrWtPdHXUJ",
        "colab_type": "code",
        "colab": {}
      },
      "source": [
        "aligned_frames = read_all_images('/content/results/align_faces', 'align_face', 153)"
      ],
      "execution_count": 0,
      "outputs": []
    },
    {
      "cell_type": "code",
      "metadata": {
        "id": "y_ATj3C_IQv7",
        "colab_type": "code",
        "colab": {}
      },
      "source": [
        "stabilized_frames = read_all_images('/content/results/stab_frames', 'stab_frame', 153)"
      ],
      "execution_count": 0,
      "outputs": []
    },
    {
      "cell_type": "code",
      "metadata": {
        "id": "uZc7rdAkJPQ4",
        "colab_type": "code",
        "colab": {
          "base_uri": "https://localhost:8080/",
          "height": 68
        },
        "outputId": "524dec65-1abe-4aae-d125-3375e8efcb00"
      },
      "source": [
        "print(original_frames[0].shape)\n",
        "print(aligned_frames[0].shape)\n",
        "print(stabilized_frames[0].shape)"
      ],
      "execution_count": 19,
      "outputs": [
        {
          "output_type": "stream",
          "text": [
            "(540, 960, 3)\n",
            "(600, 600, 3)\n",
            "(540, 960, 3)\n"
          ],
          "name": "stdout"
        }
      ]
    },
    {
      "cell_type": "markdown",
      "metadata": {
        "id": "2Zk93NhpJ4Mm",
        "colab_type": "text"
      },
      "source": [
        "## Resize images"
      ]
    },
    {
      "cell_type": "code",
      "metadata": {
        "id": "sJe1gBCrJ59R",
        "colab_type": "code",
        "colab": {}
      },
      "source": [
        "def resize_images(imageList, width, height):\n",
        "  result_list = []\n",
        "  for cnt in range(0, len(imageList)):\n",
        "    new_img = cv2.resize(imageList[cnt], (width, height), interpolation=cv2.INTER_AREA)\n",
        "    result_list.append(new_img)\n",
        "  return result_list"
      ],
      "execution_count": 0,
      "outputs": []
    },
    {
      "cell_type": "code",
      "metadata": {
        "id": "7Uo9pn9qLO96",
        "colab_type": "code",
        "colab": {
          "base_uri": "https://localhost:8080/",
          "height": 34
        },
        "outputId": "4534c552-4fac-4867-857e-d05dcc806555"
      },
      "source": [
        "len(original_frames)"
      ],
      "execution_count": 24,
      "outputs": [
        {
          "output_type": "execute_result",
          "data": {
            "text/plain": [
              "153"
            ]
          },
          "metadata": {
            "tags": []
          },
          "execution_count": 24
        }
      ]
    },
    {
      "cell_type": "code",
      "metadata": {
        "id": "3rwfbaEhK-w0",
        "colab_type": "code",
        "colab": {}
      },
      "source": [
        "orig_frames_resized = resize_images(original_frames, 600, 600)"
      ],
      "execution_count": 0,
      "outputs": []
    },
    {
      "cell_type": "code",
      "metadata": {
        "id": "90obR4lCLY75",
        "colab_type": "code",
        "colab": {
          "base_uri": "https://localhost:8080/",
          "height": 34
        },
        "outputId": "8e0f6b19-0f4f-4a3b-8ec1-ca2e374728ab"
      },
      "source": [
        "orig_frames_resized[0].shape"
      ],
      "execution_count": 26,
      "outputs": [
        {
          "output_type": "execute_result",
          "data": {
            "text/plain": [
              "(600, 600, 3)"
            ]
          },
          "metadata": {
            "tags": []
          },
          "execution_count": 26
        }
      ]
    },
    {
      "cell_type": "code",
      "metadata": {
        "id": "4D6foO6ULcAC",
        "colab_type": "code",
        "colab": {}
      },
      "source": [
        "stab_frames_resized = resize_images(stabilized_frames, 600, 600)"
      ],
      "execution_count": 0,
      "outputs": []
    },
    {
      "cell_type": "code",
      "metadata": {
        "id": "gZkAr1hULiHR",
        "colab_type": "code",
        "colab": {
          "base_uri": "https://localhost:8080/",
          "height": 34
        },
        "outputId": "e8ccfdd9-c122-40f4-d16b-1ea4792a21be"
      },
      "source": [
        "stab_frames_resized[0].shape"
      ],
      "execution_count": 28,
      "outputs": [
        {
          "output_type": "execute_result",
          "data": {
            "text/plain": [
              "(600, 600, 3)"
            ]
          },
          "metadata": {
            "tags": []
          },
          "execution_count": 28
        }
      ]
    },
    {
      "cell_type": "code",
      "metadata": {
        "id": "uFBMlLMXQNnW",
        "colab_type": "code",
        "colab": {}
      },
      "source": [
        "stitched_frames = []\n",
        "for cnt in range(0, len(orig_frames_resized)):\n",
        "  new_img = np.hstack((orig_frames_resized[cnt], aligned_frames[cnt], stab_frames_resized[cnt]))\n",
        "  stitched_frames.append(new_img)"
      ],
      "execution_count": 0,
      "outputs": []
    },
    {
      "cell_type": "code",
      "metadata": {
        "id": "jK_6TmDqLtY4",
        "colab_type": "code",
        "colab": {
          "base_uri": "https://localhost:8080/",
          "height": 180
        },
        "outputId": "1fcf254e-2971-4ba4-901a-0168460796a9"
      },
      "source": [
        "plt.imshow(stitched_frames[50][:,:,::-1])"
      ],
      "execution_count": 34,
      "outputs": [
        {
          "output_type": "execute_result",
          "data": {
            "text/plain": [
              "<matplotlib.image.AxesImage at 0x7f63ce171d30>"
            ]
          },
          "metadata": {
            "tags": []
          },
          "execution_count": 34
        },
        {
          "output_type": "display_data",
          "data": {
            "image/png": "[encoded data removed]",
            "text/plain": [
              "<Figure size 432x288 with 1 Axes>"
            ]
          },
          "metadata": {
            "tags": []
          }
        }
      ]
    },
    {
      "cell_type": "markdown",
      "metadata": {
        "id": "CqJ0cZBKeGDU",
        "colab_type": "text"
      },
      "source": [
        "## Save Stiched Images"
      ]
    },
    {
      "cell_type": "code",
      "metadata": {
        "id": "VWiMu4-0eI2_",
        "colab_type": "code",
        "colab": {}
      },
      "source": [
        "# save all images to disk\n",
        "def save_all_images(path, filename, imageList):\n",
        "  for cnt in range(0, len(imageList)):\n",
        "    temp_fn = filename + '_' + str(cnt) + '.png'\n",
        "    fn = os.path.join(path) + os.path.join(temp_fn)\n",
        "    cv2.imwrite(fn, imageList[cnt])"
      ],
      "execution_count": 0,
      "outputs": []
    },
    {
      "cell_type": "code",
      "metadata": {
        "id": "pcYktFv3eJms",
        "colab_type": "code",
        "colab": {}
      },
      "source": [
        "os.mkdir('/content/StitchedImages')"
      ],
      "execution_count": 0,
      "outputs": []
    },
    {
      "cell_type": "code",
      "metadata": {
        "id": "EUSVh1JFePzt",
        "colab_type": "code",
        "colab": {}
      },
      "source": [
        "save_all_images('/content/StitchedImages/', 'stitch', stitched_frames)"
      ],
      "execution_count": 0,
      "outputs": []
    },
    {
      "cell_type": "code",
      "metadata": {
        "id": "Gwxizlagefrw",
        "colab_type": "code",
        "colab": {}
      },
      "source": [
        "!cp -r '/content/StitchedImages' '/content/drive/My Drive/App/EVA/Session18'"
      ],
      "execution_count": 0,
      "outputs": []
    },
    {
      "cell_type": "markdown",
      "metadata": {
        "id": "WpYhyK5GQ9Lj",
        "colab_type": "text"
      },
      "source": [
        "## Create Video"
      ]
    },
    {
      "cell_type": "code",
      "metadata": {
        "id": "4FMMSjxLSjBP",
        "colab_type": "code",
        "colab": {
          "base_uri": "https://localhost:8080/",
          "height": 34
        },
        "outputId": "a1d6ee04-3a46-471f-da6e-4f69b4a021ca"
      },
      "source": [
        "stitched_frames[0].shape"
      ],
      "execution_count": 37,
      "outputs": [
        {
          "output_type": "execute_result",
          "data": {
            "text/plain": [
              "(600, 1800, 3)"
            ]
          },
          "metadata": {
            "tags": []
          },
          "execution_count": 37
        }
      ]
    },
    {
      "cell_type": "code",
      "metadata": {
        "id": "kS1TBUFBR-3T",
        "colab_type": "code",
        "colab": {}
      },
      "source": [
        "?cv2.VideoWriter"
      ],
      "execution_count": 0,
      "outputs": []
    },
    {
      "cell_type": "code",
      "metadata": {
        "id": "Kb1yjzkIIss_",
        "colab_type": "code",
        "colab": {}
      },
      "source": [
        "fps = 30\n",
        "size = (stitched_frames[0].shape[0], stitched_frames[0].shape[1])\n",
        "out = cv2.VideoWriter('project.avi',cv2.VideoWriter_fourcc(*'DIVX'), 15, size )"
      ],
      "execution_count": 0,
      "outputs": []
    },
    {
      "cell_type": "code",
      "metadata": {
        "id": "_Ksd4SsDIwE5",
        "colab_type": "code",
        "colab": {}
      },
      "source": [
        "for cnt in range(0, len(stitched_frames)):\n",
        "  out.write(stitched_frames[cnt])\n",
        "out.release()"
      ],
      "execution_count": 0,
      "outputs": []
    },
    {
      "cell_type": "code",
      "metadata": {
        "id": "I28uNbiVTLUp",
        "colab_type": "code",
        "colab": {}
      },
      "source": [
        "!cp '/content/project.avi' '/content/drive/My Drive/App/EVA/Session18'"
      ],
      "execution_count": 0,
      "outputs": []
    },
    {
      "cell_type": "markdown",
      "metadata": {
        "id": "U-gqBp1bXqWY",
        "colab_type": "text"
      },
      "source": [
        "## Create Video in MP4 format"
      ]
    },
    {
      "cell_type": "code",
      "metadata": {
        "id": "CLlbcgCBTZAL",
        "colab_type": "code",
        "colab": {}
      },
      "source": [
        "#mp4_out = cv2.VideoWriter('project.mp4', cv2.VideoWriter_fourcc(*'MP4V'), 15, size)\n",
        "\n",
        "mp4_out = cv2.VideoWriter('project.mp4', cv2.VideoWriter_fourcc('F','M','P','4'), 15, size)\n",
        "#cv2.VideoWriter_fourcc('F','M','P','4')\n"
      ],
      "execution_count": 0,
      "outputs": []
    },
    {
      "cell_type": "code",
      "metadata": {
        "id": "9Znv9kSUYotp",
        "colab_type": "code",
        "colab": {
          "base_uri": "https://localhost:8080/",
          "height": 34
        },
        "outputId": "65844a49-97e4-4806-c9f9-a10761a5a01d"
      },
      "source": [
        "len(stitched_frames)"
      ],
      "execution_count": 60,
      "outputs": [
        {
          "output_type": "execute_result",
          "data": {
            "text/plain": [
              "153"
            ]
          },
          "metadata": {
            "tags": []
          },
          "execution_count": 60
        }
      ]
    },
    {
      "cell_type": "code",
      "metadata": {
        "id": "V8re2ez8X9Fi",
        "colab_type": "code",
        "colab": {}
      },
      "source": [
        "for cnt in range(0, len(stitched_frames)):\n",
        "  mp4_out.write(stitched_frames[cnt])\n",
        "  \n",
        "mp4_out.release()"
      ],
      "execution_count": 0,
      "outputs": []
    },
    {
      "cell_type": "code",
      "metadata": {
        "id": "T02yEFhDYNU6",
        "colab_type": "code",
        "colab": {}
      },
      "source": [
        "!cp '/content/project.mp4' '/content/drive/My Drive/App/EVA/Session18'"
      ],
      "execution_count": 0,
      "outputs": []
    },
    {
      "cell_type": "code",
      "metadata": {
        "id": "_TTKwoylYSWl",
        "colab_type": "code",
        "colab": {}
      },
      "source": [
        ""
      ],
      "execution_count": 0,
      "outputs": []
    }
  ]
}